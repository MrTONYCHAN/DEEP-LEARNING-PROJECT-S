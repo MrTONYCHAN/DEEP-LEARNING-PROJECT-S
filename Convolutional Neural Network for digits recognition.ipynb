{
 "cells": [
  {
   "cell_type": "markdown",
   "metadata": {},
   "source": [
    " # Digit Recognizer"
   ]
  },
  {
   "cell_type": "markdown",
   "metadata": {},
   "source": [
    "This is a 5 layers Sequential Convolutional Neural Network for digits recognition trained on MNIST dataset. I choosed to build it with keras API (Tensorflow backend) which is very intuitive. Firstly, I will prepare the data (handwritten digits images) then i will focus on the CNN modeling and evaluation."
   ]
  },
  {
   "cell_type": "code",
   "execution_count": null,
   "metadata": {},
   "outputs": [],
   "source": [
    "import pandas as pd\r\n",
    "import numpy as np\r\n",
    "import matplotlib.pyplot as plt\r\n",
    "import matplotlib.image as mpimg\r\n",
    "import seaborn as sns\r\n",
    "%matplotlib inline\r\n",
    "\r\n",
    "np.random.seed(2)\r\n",
    "\r\n",
    "from sklearn.model_selection import train_test_split\r\n",
    "from sklearn.metrics import confusion_matrix\r\n",
    "import itertools\r\n",
    "\r\n",
    "from keras.utils.np_utils import to_categorical # convert to one-hot-encoding\r\n",
    "from keras.models import Sequential\r\n",
    "from keras.layers import Dense, Dropout, Flatten, Conv2D, MaxPool2D\r\n",
    "from keras.optimizers import RMSprop\r\n",
    "from keras.preprocessing.image import ImageDataGenerator\r\n",
    "from keras.callbacks import ReduceLROnPlateau\r\n",
    "\r\n",
    "\r\n",
    "sns.set(style='white', context='notebook', palette='deep')"
   ]
  },
  {
   "cell_type": "code",
   "execution_count": null,
   "metadata": {},
   "outputs": [],
   "source": [
    "# Load the data\r\n",
    "train = pd.read_csv(\"../input/train.csv\")\r\n",
    "test = pd.read_csv(\"../input/test.csv\")"
   ]
  },
  {
   "cell_type": "code",
   "execution_count": null,
   "metadata": {},
   "outputs": [],
   "source": [
    "Y_train = train[\"label\"]\r\n",
    "\r\n",
    "# Drop 'label' column\r\n",
    "X_train = train.drop(labels = [\"label\"],axis = 1) \r\n",
    "\r\n",
    "# free some space\r\n",
    "del train \r\n",
    "\r\n",
    "g = sns.countplot(Y_train)\r\n",
    "\r\n",
    "Y_train.value_counts()"
   ]
  },
  {
   "cell_type": "code",
   "execution_count": null,
   "metadata": {},
   "outputs": [],
   "source": [
    "# Check the data\r\n",
    "X_train.isnull().any().describe()"
   ]
  },
  {
   "cell_type": "code",
   "execution_count": null,
   "metadata": {},
   "outputs": [],
   "source": [
    "test.isnull().any().describe()"
   ]
  },
  {
   "cell_type": "code",
   "execution_count": null,
   "metadata": {},
   "outputs": [],
   "source": [
    "# Normalize the data\r\n",
    "X_train = X_train / 255.0\r\n",
    "test = test / 255.0"
   ]
  },
  {
   "cell_type": "code",
   "execution_count": null,
   "metadata": {},
   "outputs": [],
   "source": [
    "# Reshape image in 3 dimensions (height = 28px, width = 28px , canal = 1)\r\n",
    "X_train = X_train.values.reshape(-1,28,28,1)\r\n",
    "test = test.values.reshape(-1,28,28,1)"
   ]
  },
  {
   "cell_type": "code",
   "execution_count": null,
   "metadata": {},
   "outputs": [],
   "source": [
    "# Encode labels to one hot vectors (ex : 2 -> [0,0,1,0,0,0,0,0,0,0])\r\n",
    "Y_train = to_categorical(Y_train, num_classes = 10"
   ]
  },
  {
   "cell_type": "code",
   "execution_count": null,
   "metadata": {},
   "outputs": [],
   "source": [
    "# Set the random seed\r\n",
    "random_seed = 2"
   ]
  },
  {
   "cell_type": "code",
   "execution_count": null,
   "metadata": {},
   "outputs": [],
   "source": [
    "# Split the train and the validation set for the fitting\r\n",
    "X_train, X_val, Y_train, Y_val = train_test_split(X_train, Y_train, test_size = 0.1, random_state=random_seed)"
   ]
  },
  {
   "cell_type": "code",
   "execution_count": null,
   "metadata": {},
   "outputs": [],
   "source": [
    "# Some examples\r\n",
    "g = plt.imshow(X_train[0][:,:,0])"
   ]
  },
  {
   "cell_type": "code",
   "execution_count": null,
   "metadata": {},
   "outputs": [],
   "source": [
    "# Set the CNN model \r\n",
    "# my CNN architechture is In -> [[Conv2D->relu]*2 -> MaxPool2D -> Dropout]*2 -> Flatten -> Dense -> Dropout -> Out\r\n",
    "\r\n",
    "model = Sequential()\r\n",
    "\r\n",
    "model.add(Conv2D(filters = 32, kernel_size = (5,5),padding = 'Same', activation ='relu', input_shape = (28,28,1)))\r\n",
    "model.add(Conv2D(filters = 32, kernel_size = (5,5),padding = 'Same', activation ='relu'))\r\n",
    "model.add(MaxPool2D(pool_size=(2,2)))\r\n",
    "model.add(Dropout(0.25))\r\n",
    "\r\n",
    "\r\n",
    "model.add(Conv2D(filters = 64, kernel_size = (3,3),padding = 'Same', activation ='relu'))\r\n",
    "model.add(Conv2D(filters = 64, kernel_size = (3,3),padding = 'Same', activation ='relu'))\r\n",
    "model.add(MaxPool2D(pool_size=(2,2), strides=(2,2)))\r\n",
    "model.add(Dropout(0.25))\r\n",
    "\r\n",
    "\r\n",
    "model.add(Flatten())\r\n",
    "model.add(Dense(256, activation = \"relu\"))\r\n",
    "model.add(Dropout(0.5))\r\n",
    "model.add(Dense(10, activation = \"softmax\"))"
   ]
  },
  {
   "cell_type": "code",
   "execution_count": null,
   "metadata": {},
   "outputs": [],
   "source": [
    "# Define the optimizer\r\n",
    "optimizer = RMSprop(lr=0.001, rho=0.9, epsilon=1e-08, decay=0.0)"
   ]
  },
  {
   "cell_type": "code",
   "execution_count": null,
   "metadata": {},
   "outputs": [],
   "source": [
    "# Compile the model\r\n",
    "model.compile(optimizer = optimizer , loss = \"categorical_crossentropy\", metrics=[\"accuracy\"])"
   ]
  },
  {
   "cell_type": "code",
   "execution_count": null,
   "metadata": {},
   "outputs": [],
   "source": [
    "# Set a learning rate annealer\r\n",
    "learning_rate_reduction = ReduceLROnPlateau(monitor='val_acc', \r\n",
    "                                            patience=3, \r\n",
    "                                            verbose=1, \r\n",
    "                                            factor=0.5, \r\n",
    "                                            min_lr=0.00001)"
   ]
  },
  {
   "cell_type": "code",
   "execution_count": null,
   "metadata": {},
   "outputs": [],
   "source": [
    "epochs = 1 # Turn epochs to 30 to get 0.9967 accuracy\r\n",
    "batch_size = 86"
   ]
  },
  {
   "cell_type": "code",
   "execution_count": null,
   "metadata": {},
   "outputs": [],
   "source": [
    "# Without data augmentation i obtained an accuracy of 0.98114\r\n",
    "#history = model.fit(X_train, Y_train, batch_size = batch_size, epochs = epochs, \r\n",
    "#          validation_data = (X_val, Y_val), verbose = 2)\r\n",
    "\r\n",
    "# With data augmentation to prevent overfitting (accuracy 0.99286)\r\n",
    "\r\n",
    "datagen = ImageDataGenerator(\r\n",
    "        featurewise_center=False,  # set input mean to 0 over the dataset\r\n",
    "        samplewise_center=False,  # set each sample mean to 0\r\n",
    "        featurewise_std_normalization=False,  # divide inputs by std of the dataset\r\n",
    "        samplewise_std_normalization=False,  # divide each input by its std\r\n",
    "        zca_whitening=False,  # apply ZCA whitening\r\n",
    "        rotation_range=10,  # randomly rotate images in the range (degrees, 0 to 180)\r\n",
    "        zoom_range = 0.1, # Randomly zoom image \r\n",
    "        width_shift_range=0.1,  # randomly shift images horizontally (fraction of total width)\r\n",
    "        height_shift_range=0.1,  # randomly shift images vertically (fraction of total height)\r\n",
    "        horizontal_flip=False,  # randomly flip images\r\n",
    "        vertical_flip=False)  # randomly flip images\r\n",
    "\r\n",
    "\r\n",
    "datagen.fit(X_train)"
   ]
  },
  {
   "cell_type": "code",
   "execution_count": null,
   "metadata": {},
   "outputs": [],
   "source": [
    "# Fit the model\r\n",
    "history = model.fit_generator(datagen.flow(X_train,Y_train, batch_size=batch_size),\r\n",
    "                              epochs = epochs, validation_data = (X_val,Y_val),\r\n",
    "                              verbose = 2, steps_per_epoch=X_train.shape[0] // batch_size\r\n",
    "                              , callbacks=[learning_rate_reduction])"
   ]
  },
  {
   "cell_type": "code",
   "execution_count": null,
   "metadata": {},
   "outputs": [],
   "source": [
    "# Plot the loss and accuracy curves for training and validation \r\n",
    "fig, ax = plt.subplots(2,1)\r\n",
    "ax[0].plot(history.history['loss'], color='b', label=\"Training loss\")\r\n",
    "ax[0].plot(history.history['val_loss'], color='r', label=\"validation loss\",axes =ax[0])\r\n",
    "legend = ax[0].legend(loc='best', shadow=True)\r\n",
    "\r\n",
    "ax[1].plot(history.history['acc'], color='b', label=\"Training accuracy\")\r\n",
    "ax[1].plot(history.history['val_acc'], color='r',label=\"Validation accuracy\")\r\n",
    "legend = ax[1].legend(loc='best', shadow=True)"
   ]
  },
  {
   "cell_type": "code",
   "execution_count": null,
   "metadata": {},
   "outputs": [],
   "source": [
    "# Look at confusion matrix \r\n",
    "\r\n",
    "def plot_confusion_matrix(cm, classes,\r\n",
    "                          normalize=False,\r\n",
    "                          title='Confusion matrix',\r\n",
    "                          cmap=plt.cm.Blues):\r\n",
    "    \"\"\"\r\n",
    "    This function prints and plots the confusion matrix.\r\n",
    "    Normalization can be applied by setting `normalize=True`.\r\n",
    "    \"\"\"\r\n",
    "    plt.imshow(cm, interpolation='nearest', cmap=cmap)\r\n",
    "    plt.title(title)\r\n",
    "    plt.colorbar()\r\n",
    "    tick_marks = np.arange(len(classes))\r\n",
    "    plt.xticks(tick_marks, classes, rotation=45)\r\n",
    "    plt.yticks(tick_marks, classes)\r\n",
    "\r\n",
    "    if normalize:\r\n",
    "        cm = cm.astype('float') / cm.sum(axis=1)[:, np.newaxis]\r\n",
    "\r\n",
    "    thresh = cm.max() / 2.\r\n",
    "    for i, j in itertools.product(range(cm.shape[0]), range(cm.shape[1])):\r\n",
    "        plt.text(j, i, cm[i, j],\r\n",
    "                 horizontalalignment=\"center\",\r\n",
    "                 color=\"white\" if cm[i, j] > thresh else \"black\")\r\n",
    "\r\n",
    "    plt.tight_layout()\r\n",
    "    plt.ylabel('True label')\r\n",
    "    plt.xlabel('Predicted label')\r\n",
    "\r\n",
    "# Predict the values from the validation dataset\r\n",
    "Y_pred = model.predict(X_val)\r\n",
    "# Convert predictions classes to one hot vectors \r\n",
    "Y_pred_classes = np.argmax(Y_pred,axis = 1) \r\n",
    "# Convert validation observations to one hot vectors\r\n",
    "Y_true = np.argmax(Y_val,axis = 1) \r\n",
    "# compute the confusion matrix\r\n",
    "confusion_mtx = confusion_matrix(Y_true, Y_pred_classes) \r\n",
    "# plot the confusion matrix\r\n",
    "plot_confusion_matrix(confusion_mtx, classes = range(10)) "
   ]
  },
  {
   "cell_type": "code",
   "execution_count": null,
   "metadata": {},
   "outputs": [],
   "source": [
    "\r\n",
    "\r\n",
    "# Errors are difference between predicted labels and true labels\r\n",
    "errors = (Y_pred_classes - Y_true != 0)\r\n",
    "\r\n",
    "Y_pred_classes_errors = Y_pred_classes[errors]\r\n",
    "Y_pred_errors = Y_pred[errors]\r\n",
    "Y_true_errors = Y_true[errors]\r\n",
    "X_val_errors = X_val[errors]\r\n",
    "\r\n",
    "def display_errors(errors_index,img_errors,pred_errors, obs_errors):\r\n",
    "    \"\"\" This function shows 6 images with their predicted and real labels\"\"\"\r\n",
    "    n = 0\r\n",
    "    nrows = 2\r\n",
    "    ncols = 3\r\n",
    "    fig, ax = plt.subplots(nrows,ncols,sharex=True,sharey=True)\r\n",
    "    for row in range(nrows):\r\n",
    "        for col in range(ncols):\r\n",
    "            error = errors_index[n]\r\n",
    "            ax[row,col].imshow((img_errors[error]).reshape((28,28)))\r\n",
    "            ax[row,col].set_title(\"Predicted label :{}\\nTrue label :{}\".format(pred_errors[error],obs_errors[error]))\r\n",
    "            n += 1\r\n",
    "\r\n",
    "# Probabilities of the wrong predicted numbers\r\n",
    "Y_pred_errors_prob = np.max(Y_pred_errors,axis = 1)\r\n",
    "\r\n",
    "# Predicted probabilities of the true values in the error set\r\n",
    "true_prob_errors = np.diagonal(np.take(Y_pred_errors, Y_true_errors, axis=1))\r\n",
    "\r\n",
    "# Difference between the probability of the predicted label and the true label\r\n",
    "delta_pred_true_errors = Y_pred_errors_prob - true_prob_errors\r\n",
    "\r\n",
    "# Sorted list of the delta prob errors\r\n",
    "sorted_dela_errors = np.argsort(delta_pred_true_errors)\r\n",
    "\r\n",
    "# Top 6 errors \r\n",
    "most_important_errors = sorted_dela_errors[-6:]\r\n",
    "\r\n",
    "# Show the top 6 errors\r\n",
    "display_errors(most_important_errors, X_val_errors, Y_pred_classes_errors, Y_true_errors)"
   ]
  },
  {
   "cell_type": "code",
   "execution_count": null,
   "metadata": {},
   "outputs": [],
   "source": [
    "# predict results\r\n",
    "results = model.predict(test)\r\n",
    "\r\n",
    "# select the indix with the maximum probability\r\n",
    "results = np.argmax(results,axis = 1)\r\n",
    "\r\n",
    "results = pd.Series(results,name=\"Label\")"
   ]
  },
  {
   "cell_type": "code",
   "execution_count": null,
   "metadata": {},
   "outputs": [],
   "source": [
    "submission = pd.concat([pd.Series(range(1,28001),name = \"ImageId\"),results],axis = 1)\r\n",
    "\r\n",
    "submission.to_csv(\"cnn_mnist_datagen.csv\",index=False)"
   ]
  }
 ],
 "metadata": {
  "kernelspec": {
   "display_name": "Python 3.9.2 64-bit",
   "metadata": {
    "interpreter": {
     "hash": "c3c3adfccb16ac8041731a0c93f96024c852c4c285b5e95a9f8e3903987d4587"
    }
   },
   "name": "python3"
  },
  "language_info": {
   "name": "python",
   "nbconvert_exporter": "python",
   "version": "3.9.2-final"
  },
  "orig_nbformat": 2
 },
 "nbformat": 4,
 "nbformat_minor": 2
}